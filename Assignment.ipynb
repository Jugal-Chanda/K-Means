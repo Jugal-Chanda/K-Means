{
 "cells": [
  {
   "cell_type": "code",
   "execution_count": 34,
   "metadata": {},
   "outputs": [],
   "source": [
    "import random\n",
    "data = {\n",
    "    'x' : [1,-3,0,-7,0,6,2,-1,0,10],\n",
    "    'y' : [2,6,3,-4,7,9,3,-1,-100,10]\n",
    "}"
   ]
  },
  {
   "cell_type": "code",
   "execution_count": 35,
   "metadata": {},
   "outputs": [],
   "source": [
    "def createCentroids(data,k):\n",
    "    centroids = {}\n",
    "    for i in range(3):\n",
    "        taken = []\n",
    "        while(1):        \n",
    "            x = random.randint(0,9)\n",
    "            if(x not in taken):            \n",
    "                taken.append(x)\n",
    "                break\n",
    "        centroids[i+1] = [data['x'][x],data['y'][x]]\n",
    "    return centroids"
   ]
  },
  {
   "cell_type": "code",
   "execution_count": 3,
   "metadata": {},
   "outputs": [],
   "source": [
    "def updateCentroids(data,u_centroids,k):\n",
    "    distance = {} \n",
    "    # {  '1': [1,5,10],'2': [] }\n",
    "    for i in u_centroids.keys():\n",
    "        distance[i] = [(u_centroids[i][0] - data['x'][j])**2 + (u_centroids[i][1] - data['y'][j])**2 for j in range(len(data['x']))]\n",
    "    cluster = []\n",
    "    for i in range(len(data['x'])):\n",
    "        c = { k : distance[k][i] for k in distance.keys() }\n",
    "        cluster.append(min(zip(c.values(), c.keys()))[1])\n",
    "    \n",
    "    for k in u_centroids.keys():\n",
    "        temp_x = [ data['x'][i] for i in range(10) if(cluster[i] == k)]\n",
    "        u_centroids[k][0] = (sum(temp_x)/len(temp_x))\n",
    "        temp_y = [ data['y'][i] for i in range(10) if(cluster[i] == k)]\n",
    "        u_centroids[k][1] = (sum(temp_y)/len(temp_y))\n",
    "        \n",
    "    return u_centroids;\n",
    "    "
   ]
  },
  {
   "cell_type": "code",
   "execution_count": 47,
   "metadata": {},
   "outputs": [],
   "source": [
    "def kMeans(data,k):\n",
    "    centroids = createCentroids(data,k)\n",
    "    print(centroids)\n",
    "    temp = centroids.copy()\n",
    "    print(temp)\n",
    "    for i in range(1):        \n",
    "        new_centroids = updateCentroids(data,temp,k)\n",
    "    print(new_centroids)\n",
    "    print(centroids)\n",
    "    print(temp)"
   ]
  },
  {
   "cell_type": "code",
   "execution_count": 48,
   "metadata": {},
   "outputs": [
    {
     "name": "stdout",
     "output_type": "stream",
     "text": [
      "{1: [-3, 6], 2: [1, 2], 3: [-7, -4]}\n",
      "{1: [-3, 6], 2: [1, 2], 3: [-7, -4]}\n",
      "{1: [-1.5, 6.5], 2: [3.0, 4.333333333333333], 3: [-3.5, -52.0]}\n",
      "{1: [-1.5, 6.5], 2: [3.0, 4.333333333333333], 3: [-3.5, -52.0]}\n",
      "{1: [-1.5, 6.5], 2: [3.0, 4.333333333333333], 3: [-3.5, -52.0]}\n"
     ]
    }
   ],
   "source": [
    "kMeans(data,3)"
   ]
  },
  {
   "cell_type": "code",
   "execution_count": 22,
   "metadata": {},
   "outputs": [],
   "source": [
    "def check(a_list,b_dict):\n",
    "    for k in b_dict.keys():\n",
    "        b_dict[k] = [10000,10000]\n",
    "    return b_dict"
   ]
  },
  {
   "cell_type": "code",
   "execution_count": 23,
   "metadata": {},
   "outputs": [],
   "source": [
    "def check2():\n",
    "    b = {}\n",
    "    b[0] = [0,1]\n",
    "    return b;"
   ]
  },
  {
   "cell_type": "code",
   "execution_count": 32,
   "metadata": {},
   "outputs": [],
   "source": [
    "def final():\n",
    "    b = check2()\n",
    "    a = [0,10]\n",
    "    print(b)\n",
    "    for i in range(1):        \n",
    "        new_b = check(a,b.copy())\n",
    "        print(new_b)\n",
    "        print(b)"
   ]
  },
  {
   "cell_type": "code",
   "execution_count": 33,
   "metadata": {},
   "outputs": [
    {
     "name": "stdout",
     "output_type": "stream",
     "text": [
      "{0: [0, 1]}\n",
      "{0: [10000, 10000]}\n",
      "{0: [0, 1]}\n"
     ]
    }
   ],
   "source": [
    "final()"
   ]
  },
  {
   "cell_type": "code",
   "execution_count": null,
   "metadata": {},
   "outputs": [],
   "source": []
  }
 ],
 "metadata": {
  "kernelspec": {
   "display_name": "Python 3",
   "language": "python",
   "name": "python3"
  },
  "language_info": {
   "codemirror_mode": {
    "name": "ipython",
    "version": 3
   },
   "file_extension": ".py",
   "mimetype": "text/x-python",
   "name": "python",
   "nbconvert_exporter": "python",
   "pygments_lexer": "ipython3",
   "version": "3.8.3"
  }
 },
 "nbformat": 4,
 "nbformat_minor": 4
}
